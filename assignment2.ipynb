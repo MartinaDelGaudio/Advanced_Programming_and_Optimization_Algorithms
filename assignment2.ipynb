{
 "cells": [
  {
   "cell_type": "markdown",
   "metadata": {},
   "source": [
    "Programming assignment 2\n",
    "\n",
    "Consider a set of pictures from 360° camera mounted inside a merry-go-round. They were taken at night and only one seat is visible which emits light – the seat in the shape of a jelly fish. We know that the merry-go-round rotates clockwise and that all the pictures were taken during a single cycle of merry-go-round. Given that the first picture is P1, your task is to sort the rest in the chronological order. Assume that the move of jelly fish is monotonous in horizontal direction, i.e., it always moves in clockwise direction, never backwards.\n",
    "\n",
    "Input files: text files, each of them with 10 rows and 80 columns representing the brightness level in the given parts of the picture. Jelly fish can be recognized by high brightness (value 1 to 9) on a black background (value 0).\n",
    "\n",
    "00000000000000000000000000000000000000000000000000000000000000000000000000000000\n",
    "00000000000000000000000000000000000000000000000000000000000000000000000000000000\n",
    "00000000000000000000000000000000000000000000000000000000000000000000000000000000\n",
    "00000000000000000000000000000000000000000000000000000000000000000000000000000000\n",
    "00000000000000000000000000000000000000000000000000000000000000000000000000000000\n",
    "00000000000000000000000000000000000005950000000000000000000000000000000000000000\n",
    "00000000000000000000000000000000000009990000000000000000000000000000000000000000\n",
    "00000000000000000000000000000000000005950000000000000000000000000000000000000000\n",
    "00000000000000000000000000000000000003930000000000000000000000000000000000000000\n",
    "00000000000000000000000000000000000000000000000000000000000000000000000000000000\n",
    "Directions\n",
    "\n",
    "In order to capture the movement of the jelly fish between two pictures, use Earth-mover distance, also known as Wasserstein distance. It can be formulated as a min-cost flow problem on a certain network. Use NetworkX package (https://networkx.org) to perform the optimization required to find this flow.\n",
    "\n",
    "About Earth-mover distance: Consider two distributions over a discrete set of points P: μ in [0,1]^P and λ in [0,1]^P. Since both are distributions and sum of μ(p) over all points in P is 1 (and the same holds for λ), there is surely a way to transform μ into λ: we denote fp,q the probability mass transfered from point p to q for each pair of points p,q from P, in order to transform μ into λ:\n",
    "\n",
    "For each p in P: μ(p) = Σq fp,q and for each q in P: λ(q) = Σp fp,q. \n",
    "\n",
    "Note that fp,p denotes the probability mass which remains at the same place.\n",
    "Let d(p,q) denote the distance between p and q. Then, the cost of the transformation f is\n",
    "\n",
    "Σp,q d(p,q) fp,q\n",
    "\n",
    "The earth-mover distance of μ and λ is then the cost of the cheapest transformation between μ and λ.\n",
    "\n",
    "Technical instructions:\n",
    "\n",
    "Your code should implement function sort_files() which returns ordered list of the pictures, something like this:\n",
    "\n",
    "['P1.txt', 'P2.txt', 'P3.txt', 'P10.txt', 'P4.txt', 'P13.txt', 'P14.txt', 'P9.txt',\n",
    "  'P15.txt', 'P7.txt', 'P12.txt', 'P11.txt', 'P5.txt', 'P6.txt', 'P8.txt']\n",
    "You should also define and use function comp_dist(file1, file2) which returns the Earth-mover distance between file1 and file2. I may want to access it during the grading process, especially if your output is not completely correct.\n",
    "\n",
    "Make sure your code never breaks down. If you know that it cannot handle e.g. P10.txt, skip this file and don't include it in the output. This way, you will not get a full score, but you will still get points for the partial solution.\n",
    "\n",
    "Before submission, always try your code in vocareum using \"Run\" button. Incorrect output format, syntax and indentation errors, etc will result into 0 points."
   ]
  },
  {
   "cell_type": "markdown",
   "metadata": {},
   "source": [
    "Firstly we define a function which given two files calculated the EMD distance between them. We create a graph with a sink node 's' and a tank node 't' with an additional 'jolly edge' which solves some rounding problems which will would have emerged later."
   ]
  },
  {
   "cell_type": "code",
   "execution_count": null,
   "metadata": {},
   "outputs": [],
   "source": [
    "import numpy as np\n",
    "import networkx as nx\n",
    "\n",
    "# This function returns the EMD distances between file1 and file2.\n",
    "\n",
    "def comp_dist(file1, file2):\n",
    "    with open(file1, 'r') as f1, open(file2, 'r') as f2:\n",
    "        f_1 = []\n",
    "        f_2 = []\n",
    "        for lines in f1:\n",
    "            f_1.append(lines[:-1])\n",
    "        for lines in f2:\n",
    "            f_2.append(lines[:-1])             \n",
    "        all_lists = [f_1,f_2]\n",
    "        G = nx.DiGraph()\n",
    "        s1 = 0 \n",
    "        for x in f_1:\n",
    "            for i in range(len(x)):\n",
    "                s1+= int(x[i])\n",
    "        s2=0\n",
    "        for x in f_2:\n",
    "            for i in range(len(x)):\n",
    "                s2+= int(x[i])\n",
    "        G.add_node('s', demand= -1)\n",
    "        G.add_node('t', demand= 1)\n",
    "        G.add_edge('s', 't', capacity = 1e-15)\n",
    "        nodes_list_1 = []\n",
    "        nodes_list_2 = []\n",
    "        for i in range(10):\n",
    "            for j in range(80):\n",
    "                if f_1[i][j] !='0':\n",
    "                    G.add_node(f'n_1[{i}][{j}]')\n",
    "                    nodes_list_1.append((f'n_1[{i}][{j}]', j, int(f_1[i][j])/s1))\n",
    "                    G.add_edge('s', f'n_1[{i}][{j}]', capacity = int(f_1[i][j])/s1)\n",
    "        for i in range(10):\n",
    "            for j in range(80):\n",
    "                if f_2[i][j] !='0':\n",
    "                    G.add_node(f'n_2[{i}][{j}]') \n",
    "                    nodes_list_2.append((f'n_2[{i}][{j}]', j, int(f_2[i][j])/s2))\n",
    "                    G.add_edge(f'n_2[{i}][{j}]','t', capacity = int(f_2[i][j])/s2)\n",
    "        for x in nodes_list_1: \n",
    "            for y in nodes_list_2:\n",
    "                if x[1] < y[1]:                            \n",
    "                    G.add_edge(x[0], y[0], weight = y[1] - x[1], capacity=min(x[2], y[2]))\n",
    "                else:\n",
    "                    G.add_edge(x[0], y[0], weight = 80 - x[1] + y[1], capacity=min(x[2], y[2]))\n",
    "        flow = nx.min_cost_flow(G)\n",
    "        emd_dist = 0\n",
    "        for x in nodes_list_1: \n",
    "            for y in nodes_list_2:\n",
    "                if x[1] < y[1]:                            \n",
    "                    dist = y[1] - x[1]\n",
    "                else:\n",
    "                    dist = 80 - x[1] + y[1]\n",
    "                emd_dist+= flow[x[0]][y[0]]*dist\n",
    "   \n",
    "    return float(emd_dist)\n",
    " "
   ]
  },
  {
   "cell_type": "markdown",
   "metadata": {},
   "source": [
    "Secondly, we define the function which will return us the sorted order of the files. Note that we knoe that P1.txt is the first file in the list."
   ]
  },
  {
   "cell_type": "code",
   "execution_count": null,
   "metadata": {},
   "outputs": [],
   "source": [
    "def sort_files():          \n",
    "\n",
    "    files = ['P1.txt', 'P2.txt', 'P3.txt', 'P4.txt', 'P5.txt', 'P6.txt', 'P7.txt', 'P8.txt', 'P9.txt', 'P10.txt', 'P11.txt', 'P12.txt','P13.txt', 'P14.txt', 'P15.txt']\n",
    "    \n",
    "    emd_distances = dict()\n",
    "    for file in files: \n",
    "        emd_distances[file] = comp_dist('P1.txt',file)\n",
    "    temp_files = []\n",
    "    sorted_files = ['P1.txt']\n",
    "    for elements in sorted(emd_distances.values()): \n",
    "        for names in emd_distances.keys():\n",
    "            if emd_distances[names] == elements:\n",
    "                if names not in sorted_files:\n",
    "                    sorted_files.append(names)\n",
    "                                                       \n",
    "    return sorted_files"
   ]
  }
 ],
 "metadata": {
  "kernelspec": {
   "display_name": "Python 3.9.13 ('base')",
   "language": "python",
   "name": "python3"
  },
  "language_info": {
   "codemirror_mode": {
    "name": "ipython",
    "version": 3
   },
   "file_extension": ".py",
   "mimetype": "text/x-python",
   "name": "python",
   "nbconvert_exporter": "python",
   "pygments_lexer": "ipython3",
   "version": "3.9.13"
  },
  "orig_nbformat": 4,
  "vscode": {
   "interpreter": {
    "hash": "e025ee8e9cf9a0e61f7112a6844e05cee64e274d80a33e028cca2714e290994a"
   }
  }
 },
 "nbformat": 4,
 "nbformat_minor": 2
}
